{
  "nbformat": 4,
  "nbformat_minor": 0,
  "metadata": {
    "colab": {
      "name": "Gale–Shapley algorithm.ipynb",
      "provenance": [],
      "collapsed_sections": []
    },
    "kernelspec": {
      "name": "python3",
      "display_name": "Python 3"
    }
  },
  "cells": [
    {
      "cell_type": "code",
      "metadata": {
        "id": "1QwoV4Fj_thy"
      },
      "source": [
        "import pandas as pd\n",
        "import numpy as np\n",
        "from collections import Counter\n",
        "from copy import copy"
      ],
      "execution_count": null,
      "outputs": []
    },
    {
      "cell_type": "markdown",
      "metadata": {
        "id": "k7PoHi-bGDlk"
      },
      "source": [
        "# **Get DataFrames**"
      ]
    },
    {
      "cell_type": "code",
      "metadata": {
        "id": "raVmavL5GGO8"
      },
      "source": [
        "def getSizedDataFramesBest(size):\n",
        "    men_list1 = menBest(size).keys()\n",
        "    men_list = []\n",
        "    for man in men_list1:\n",
        "      men_list.append( 'm'+str(man))\n",
        "\n",
        "    women_list1 = womenBest(size, menBest(size)).keys()\n",
        "    women_list = []\n",
        "    for woman in women_list1:\n",
        "      women_list.append('w'+str(woman))\n",
        "    \n",
        "    women_df = pd.DataFrame( womenBest(size, menBest(size)))\n",
        "    women_df.index = men_list\n",
        "    women_df.columns = women_list\n",
        "    men_df = pd.DataFrame(menBest(size))\n",
        "    men_df.index = men_list\n",
        "    men_df.columns = women_list\n",
        "    return women_list, men_list, women_df, men_df    "
      ],
      "execution_count": null,
      "outputs": []
    },
    {
      "cell_type": "code",
      "metadata": {
        "id": "_wRPohtGWtFJ"
      },
      "source": [
        "  def getSizedDataFramesWorst(size):\n",
        "    men_list1 = menWorst(size).keys()\n",
        "    men_list = []\n",
        "    for man in men_list1:\n",
        "      men_list.append( 'm'+str(man))\n",
        "\n",
        "    women_list1 = womenWorst(size).keys()\n",
        "    women_list = []\n",
        "    for woman in women_list1:\n",
        "      women_list.append('w'+str(woman))\n",
        "\n",
        "    women_df = pd.DataFrame( womenWorst(size) )\n",
        "    women_df.index = men_list\n",
        "    women_df.columns = women_list\n",
        "    men_df = pd.DataFrame(menWorst(size))\n",
        "    men_df.index = men_list\n",
        "    men_df.columns = women_list\n",
        "    return women_list, men_list, women_df, men_df"
      ],
      "execution_count": null,
      "outputs": []
    },
    {
      "cell_type": "markdown",
      "metadata": {
        "id": "lW7FwiN8FM5f"
      },
      "source": [
        "# **Gale-Shapley Algorithm**"
      ]
    },
    {
      "cell_type": "code",
      "metadata": {
        "id": "lySwGfvkFSe4"
      },
      "source": [
        "#def gale_shapley(women_list, men_list, men_df={}, women_df={}):\n",
        "def gale_shapley( lista ):\n",
        "  women_list = lista[0]\n",
        "  men_list = lista[1]\n",
        "  men_df = lista[2]\n",
        "  women_df = lista[3]\n",
        "  # dict to control which women each man can make proposals\n",
        "  women_available = {man:women_list for man in men_list}\n",
        "  # waiting list of men that were able to create pair on each iteration\n",
        "  waiting_list = []\n",
        "  # dict to store created pairs\n",
        "  proposals = {}\n",
        "  # variable to count number of iterations\n",
        "  count = 0\n",
        "  # while not all men have pairs\n",
        "  while len(waiting_list)<len(men_list):\n",
        "      # man makes proposals\n",
        "      for man in men_list:\n",
        "          if man not in waiting_list:\n",
        "              # each man make proposal to the top women from it's list\n",
        "              women = women_available[man]\n",
        "              best_choice = men_df.loc[man][men_df.loc[man].index.isin(women)].idxmin()\n",
        "              proposals[(man, best_choice)]=(men_df.loc[man][best_choice],\n",
        "                                                  women_df.loc[man][best_choice])\n",
        "      # if women have more than one proposals \n",
        "      # she will choose the best option\n",
        "      overlays = Counter([key[1] for key in proposals.keys()])\n",
        "      # cycle to choose the best options\n",
        "      for women in overlays.keys():\n",
        "          if overlays[women]>1:\n",
        "              # pairs to drop from proposals\n",
        "              pairs_to_drop = sorted({pair: proposals[pair] for pair in proposals.keys() \n",
        "                      if women in pair}.items(), \n",
        "                    key=lambda x: x[1][1]\n",
        "                    )[1:]\n",
        "              # if man was rejected by woman\n",
        "              # there is no pint for him to make proposal \n",
        "              # second time to the same woman\n",
        "              for p_to_drop in pairs_to_drop:\n",
        "                  del proposals[p_to_drop[0]]\n",
        "                  _women = copy(women_available[p_to_drop[0][0]])\n",
        "                  _women.remove(p_to_drop[0][1])\n",
        "                  women_available[p_to_drop[0][0]] = _women\n",
        "      # man who successfully created pairs must be added to the waiting list \n",
        "      waiting_list = [man[0] for man in proposals.keys()]\n",
        "      # update counter\n",
        "      count+=1\n",
        "  return proposals, count"
      ],
      "execution_count": null,
      "outputs": []
    },
    {
      "cell_type": "markdown",
      "metadata": {
        "id": "pzQ3dAL-QD8A"
      },
      "source": [
        "# **Best Case Scenario**"
      ]
    },
    {
      "cell_type": "code",
      "metadata": {
        "colab": {
          "base_uri": "https://localhost:8080/"
        },
        "id": "a-uDx21jQF1n",
        "outputId": "0e93c2bc-75bd-4af0-ab0b-23aa15eaf2d7"
      },
      "source": [
        "def menBest(n):\n",
        "  dicMenBest={}\n",
        "  for i in range(n):\n",
        "    #clave='m'+str(i+1)\n",
        "    clave=i+1\n",
        "    valor=[]\n",
        "    for j in range(n):\n",
        "      if i+j+1>n:\n",
        "        v=i+j+1-n\n",
        "        valor.append(v)\n",
        "      else:\n",
        "        v=i+j+1\n",
        "        valor.append(v)\n",
        "    npValor= np.array(valor)\n",
        "    dicMenBest[str(clave)]=npValor\n",
        "  return dicMenBest\n",
        "\n",
        "menBest(8)"
      ],
      "execution_count": null,
      "outputs": [
        {
          "output_type": "execute_result",
          "data": {
            "text/plain": [
              "{'1': array([1, 2, 3, 4, 5, 6, 7, 8]),\n",
              " '2': array([2, 3, 4, 5, 6, 7, 8, 1]),\n",
              " '3': array([3, 4, 5, 6, 7, 8, 1, 2]),\n",
              " '4': array([4, 5, 6, 7, 8, 1, 2, 3]),\n",
              " '5': array([5, 6, 7, 8, 1, 2, 3, 4]),\n",
              " '6': array([6, 7, 8, 1, 2, 3, 4, 5]),\n",
              " '7': array([7, 8, 1, 2, 3, 4, 5, 6]),\n",
              " '8': array([8, 1, 2, 3, 4, 5, 6, 7])}"
            ]
          },
          "metadata": {
            "tags": []
          },
          "execution_count": 15
        }
      ]
    },
    {
      "cell_type": "code",
      "metadata": {
        "colab": {
          "base_uri": "https://localhost:8080/"
        },
        "id": "61iReEz4QJSX",
        "outputId": "2718688f-3803-4f11-d786-1209a898f24a"
      },
      "source": [
        "def womenBest(n, dic={}):\n",
        "  elements=dic.items()\n",
        "  dicWomenBest={}\n",
        "  for i in range(n): #þ #para i = 0 \n",
        "    clave=i+1 #clave = w1\n",
        "    #aux=[['0'] * i for i in range(n)] # aux = []\n",
        "    aux = []\n",
        "    for j in range(n):\n",
        "      aux.append(0)\n",
        "    valor=np.array(aux)   # valor = array([], dtype=float64)\n",
        "    for key, value in elements:\n",
        "      #print(value)\n",
        "      #print(str(clave))\n",
        "      #print(np.where(value == clave))\n",
        "      l=np.where(value == clave)[0][0] # key = m1 el índice de w1 en el arreglo de m1 es 0 entonces l=0\n",
        "      valor[l]=key\n",
        "    dicWomenBest[str(clave)]=valor\n",
        "  return dicWomenBest\n",
        "mB=menBest(8)\n",
        "womenBest(8,mB)"
      ],
      "execution_count": null,
      "outputs": [
        {
          "output_type": "execute_result",
          "data": {
            "text/plain": [
              "{'1': array([1, 8, 7, 6, 5, 4, 3, 2]),\n",
              " '2': array([2, 1, 8, 7, 6, 5, 4, 3]),\n",
              " '3': array([3, 2, 1, 8, 7, 6, 5, 4]),\n",
              " '4': array([4, 3, 2, 1, 8, 7, 6, 5]),\n",
              " '5': array([5, 4, 3, 2, 1, 8, 7, 6]),\n",
              " '6': array([6, 5, 4, 3, 2, 1, 8, 7]),\n",
              " '7': array([7, 6, 5, 4, 3, 2, 1, 8]),\n",
              " '8': array([8, 7, 6, 5, 4, 3, 2, 1])}"
            ]
          },
          "metadata": {
            "tags": []
          },
          "execution_count": 16
        }
      ]
    },
    {
      "cell_type": "markdown",
      "metadata": {
        "id": "Q0yTDgxuOmH4"
      },
      "source": [
        "# **Worst Case Scenario**"
      ]
    },
    {
      "cell_type": "code",
      "metadata": {
        "colab": {
          "base_uri": "https://localhost:8080/"
        },
        "id": "NkUlVbzWOk86",
        "outputId": "32abe28a-9203-46bc-941d-0bdcf6c224c4"
      },
      "source": [
        "def menWorst(n):\n",
        "  dicMenWorst={} #Crear diccionario\n",
        "  for i in range(n): \n",
        "    clave=str(i+1)\n",
        "    valor=[]\n",
        "    for j in range(n):\n",
        "      if i+j+1>n:\n",
        "        v=i+j+1-n\n",
        "        valor.append(v)\n",
        "      else:\n",
        "        v=i+j+1\n",
        "        valor.append(v)\n",
        "    npValor= np.array(valor)\n",
        "    dicMenWorst[clave]=npValor\n",
        "  return dicMenWorst\n",
        "menWorst(4)"
      ],
      "execution_count": null,
      "outputs": [
        {
          "output_type": "execute_result",
          "data": {
            "text/plain": [
              "{'1': array([1, 2, 3, 4]),\n",
              " '2': array([2, 3, 4, 1]),\n",
              " '3': array([3, 4, 1, 2]),\n",
              " '4': array([4, 1, 2, 3])}"
            ]
          },
          "metadata": {
            "tags": []
          },
          "execution_count": 17
        }
      ]
    },
    {
      "cell_type": "code",
      "metadata": {
        "colab": {
          "base_uri": "https://localhost:8080/"
        },
        "id": "DSTbgN3gPs1w",
        "outputId": "c08d2aa5-46f1-4a05-9427-dbd45c4976f9"
      },
      "source": [
        "def womenWorst(n):\n",
        "  dicWomenWorst={}\n",
        "  for i in range(n):\n",
        "    clave=i+1\n",
        "    valor=[]\n",
        "    for j in range(n):\n",
        "      if i+j+1>n:\n",
        "        v=i+j+2-n\n",
        "        valor.append(v)\n",
        "      else:\n",
        "        v=i+j+2\n",
        "        if v == n+1:\n",
        "          v=1\n",
        "        valor.append(v)\n",
        "    npValor= np.array(valor)\n",
        "    dicWomenWorst[str(clave)]=npValor\n",
        "  return dicWomenWorst\n",
        "\n",
        "womenWorst(4)"
      ],
      "execution_count": null,
      "outputs": [
        {
          "output_type": "execute_result",
          "data": {
            "text/plain": [
              "{'1': array([2, 3, 4, 1]),\n",
              " '2': array([3, 4, 1, 2]),\n",
              " '3': array([4, 1, 2, 3]),\n",
              " '4': array([1, 2, 3, 4])}"
            ]
          },
          "metadata": {
            "tags": []
          },
          "execution_count": 18
        }
      ]
    },
    {
      "cell_type": "markdown",
      "metadata": {
        "id": "p-AdgdVHAXOp"
      },
      "source": [
        "# **Execution**"
      ]
    },
    {
      "cell_type": "code",
      "metadata": {
        "id": "3qPP3WvJBiEr"
      },
      "source": [
        "def pretty(d, indent=0):\n",
        "   for key, value in d.items():\n",
        "      print('\\t' * indent + str(key))\n",
        "      if isinstance(value, dict):\n",
        "         pretty(value, indent+1)\n",
        "      else:\n",
        "         print('\\t' * (indent+1) + str(value))"
      ],
      "execution_count": null,
      "outputs": []
    },
    {
      "cell_type": "code",
      "metadata": {
        "colab": {
          "base_uri": "https://localhost:8080/"
        },
        "id": "cXBWXtYP82HR",
        "outputId": "810f5f76-a1bd-4bf2-94d5-5619c6b18ce6"
      },
      "source": [
        "sizes = [4, 40]\n",
        "for i in sizes:\n",
        "  print(\"Best case for size {0}\".format(i))\n",
        "  b = getSizedDataFramesBest(i)\n",
        "  g = gale_shapley( b )\n",
        "  print(\"Proposals:\")\n",
        "  print(pretty(g[0]))\n",
        "  print('Number of rounds: {0}'.format( g[1]))\n",
        "  print(\"\\n\")\n"
      ],
      "execution_count": null,
      "outputs": [
        {
          "output_type": "stream",
          "text": [
            "Best case for size 4\n",
            "Proposals:\n",
            "('m1', 'w1')\n",
            "\t(1, 1)\n",
            "('m2', 'w2')\n",
            "\t(1, 3)\n",
            "('m3', 'w3')\n",
            "\t(1, 1)\n",
            "('m4', 'w4')\n",
            "\t(1, 3)\n",
            "None\n",
            "Number of rounds: 1\n",
            "\n",
            "\n",
            "Best case for size 40\n",
            "Proposals:\n",
            "('m1', 'w1')\n",
            "\t(1, 1)\n",
            "('m2', 'w2')\n",
            "\t(1, 3)\n",
            "('m3', 'w3')\n",
            "\t(1, 5)\n",
            "('m4', 'w4')\n",
            "\t(1, 7)\n",
            "('m5', 'w5')\n",
            "\t(1, 9)\n",
            "('m6', 'w6')\n",
            "\t(1, 11)\n",
            "('m7', 'w7')\n",
            "\t(1, 13)\n",
            "('m8', 'w8')\n",
            "\t(1, 15)\n",
            "('m9', 'w9')\n",
            "\t(1, 17)\n",
            "('m10', 'w10')\n",
            "\t(1, 19)\n",
            "('m11', 'w11')\n",
            "\t(1, 21)\n",
            "('m12', 'w12')\n",
            "\t(1, 23)\n",
            "('m13', 'w13')\n",
            "\t(1, 25)\n",
            "('m14', 'w14')\n",
            "\t(1, 27)\n",
            "('m15', 'w15')\n",
            "\t(1, 29)\n",
            "('m16', 'w16')\n",
            "\t(1, 31)\n",
            "('m17', 'w17')\n",
            "\t(1, 33)\n",
            "('m18', 'w18')\n",
            "\t(1, 35)\n",
            "('m19', 'w19')\n",
            "\t(1, 37)\n",
            "('m20', 'w20')\n",
            "\t(1, 39)\n",
            "('m21', 'w21')\n",
            "\t(1, 1)\n",
            "('m22', 'w22')\n",
            "\t(1, 3)\n",
            "('m23', 'w23')\n",
            "\t(1, 5)\n",
            "('m24', 'w24')\n",
            "\t(1, 7)\n",
            "('m25', 'w25')\n",
            "\t(1, 9)\n",
            "('m26', 'w26')\n",
            "\t(1, 11)\n",
            "('m27', 'w27')\n",
            "\t(1, 13)\n",
            "('m28', 'w28')\n",
            "\t(1, 15)\n",
            "('m29', 'w29')\n",
            "\t(1, 17)\n",
            "('m30', 'w30')\n",
            "\t(1, 19)\n",
            "('m31', 'w31')\n",
            "\t(1, 21)\n",
            "('m32', 'w32')\n",
            "\t(1, 23)\n",
            "('m33', 'w33')\n",
            "\t(1, 25)\n",
            "('m34', 'w34')\n",
            "\t(1, 27)\n",
            "('m35', 'w35')\n",
            "\t(1, 29)\n",
            "('m36', 'w36')\n",
            "\t(1, 31)\n",
            "('m37', 'w37')\n",
            "\t(1, 33)\n",
            "('m38', 'w38')\n",
            "\t(1, 35)\n",
            "('m39', 'w39')\n",
            "\t(1, 37)\n",
            "('m40', 'w40')\n",
            "\t(1, 39)\n",
            "None\n",
            "Number of rounds: 1\n",
            "\n",
            "\n"
          ],
          "name": "stdout"
        }
      ]
    },
    {
      "cell_type": "code",
      "metadata": {
        "colab": {
          "base_uri": "https://localhost:8080/"
        },
        "id": "tZ8Ji2leET55",
        "outputId": "59fab414-e75e-4a26-c867-da5d328fc32d"
      },
      "source": [
        "sizes = [4, 40]\n",
        "for i in sizes:\n",
        "  print(\"Worst case for size {0}\".format(i))\n",
        "  b = getSizedDataFramesWorst(i)\n",
        "  g = gale_shapley( b )\n",
        "  print(\"Proposals:\")\n",
        "  print(pretty(g[0]))\n",
        "  print('Number of rounds: {0}'.format( g[1]))\n",
        "  print(\"\\n\")"
      ],
      "execution_count": null,
      "outputs": [
        {
          "output_type": "stream",
          "text": [
            "Worst case for size 4\n",
            "Proposals:\n",
            "('m1', 'w4')\n",
            "\t(1, 4)\n",
            "('m2', 'w3')\n",
            "\t(1, 4)\n",
            "('m3', 'w2')\n",
            "\t(1, 4)\n",
            "('m4', 'w1')\n",
            "\t(1, 4)\n",
            "None\n",
            "Number of rounds: 1\n",
            "\n",
            "\n",
            "Worst case for size 40\n",
            "Proposals:\n",
            "('m1', 'w40')\n",
            "\t(1, 40)\n",
            "('m2', 'w39')\n",
            "\t(1, 40)\n",
            "('m3', 'w38')\n",
            "\t(1, 40)\n",
            "('m4', 'w37')\n",
            "\t(1, 40)\n",
            "('m5', 'w36')\n",
            "\t(1, 40)\n",
            "('m6', 'w35')\n",
            "\t(1, 40)\n",
            "('m7', 'w34')\n",
            "\t(1, 40)\n",
            "('m8', 'w33')\n",
            "\t(1, 40)\n",
            "('m9', 'w32')\n",
            "\t(1, 40)\n",
            "('m10', 'w31')\n",
            "\t(1, 40)\n",
            "('m11', 'w30')\n",
            "\t(1, 40)\n",
            "('m12', 'w29')\n",
            "\t(1, 40)\n",
            "('m13', 'w28')\n",
            "\t(1, 40)\n",
            "('m14', 'w27')\n",
            "\t(1, 40)\n",
            "('m15', 'w26')\n",
            "\t(1, 40)\n",
            "('m16', 'w25')\n",
            "\t(1, 40)\n",
            "('m17', 'w24')\n",
            "\t(1, 40)\n",
            "('m18', 'w23')\n",
            "\t(1, 40)\n",
            "('m19', 'w22')\n",
            "\t(1, 40)\n",
            "('m20', 'w21')\n",
            "\t(1, 40)\n",
            "('m21', 'w20')\n",
            "\t(1, 40)\n",
            "('m22', 'w19')\n",
            "\t(1, 40)\n",
            "('m23', 'w18')\n",
            "\t(1, 40)\n",
            "('m24', 'w17')\n",
            "\t(1, 40)\n",
            "('m25', 'w16')\n",
            "\t(1, 40)\n",
            "('m26', 'w15')\n",
            "\t(1, 40)\n",
            "('m27', 'w14')\n",
            "\t(1, 40)\n",
            "('m28', 'w13')\n",
            "\t(1, 40)\n",
            "('m29', 'w12')\n",
            "\t(1, 40)\n",
            "('m30', 'w11')\n",
            "\t(1, 40)\n",
            "('m31', 'w10')\n",
            "\t(1, 40)\n",
            "('m32', 'w9')\n",
            "\t(1, 40)\n",
            "('m33', 'w8')\n",
            "\t(1, 40)\n",
            "('m34', 'w7')\n",
            "\t(1, 40)\n",
            "('m35', 'w6')\n",
            "\t(1, 40)\n",
            "('m36', 'w5')\n",
            "\t(1, 40)\n",
            "('m37', 'w4')\n",
            "\t(1, 40)\n",
            "('m38', 'w3')\n",
            "\t(1, 40)\n",
            "('m39', 'w2')\n",
            "\t(1, 40)\n",
            "('m40', 'w1')\n",
            "\t(1, 40)\n",
            "None\n",
            "Number of rounds: 1\n",
            "\n",
            "\n"
          ],
          "name": "stdout"
        }
      ]
    }
  ]
}